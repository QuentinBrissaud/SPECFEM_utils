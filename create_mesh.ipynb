{
 "cells": [
  {
   "cell_type": "code",
   "execution_count": 16,
   "metadata": {},
   "outputs": [],
   "source": [
    "import create_geom_with_pygmsh as cp\n",
    "import pygmsh\n",
    "import numpy as np\n",
    "import scipy.signal\n",
    "import matplotlib.pyplot as plt"
   ]
  },
  {
   "cell_type": "code",
   "execution_count": 2,
   "metadata": {},
   "outputs": [],
   "source": [
    "import rockhound as rh\n",
    "from scipy.interpolate import RegularGridInterpolator\n",
    "\n",
    "def get_topo(lat_min, lat_max, lon_min, lon_max):\n",
    "\n",
    "    # Load a version of the topography grid\n",
    "    grid = rh.fetch_etopo1(version=\"bedrock\")\n",
    "\n",
    "    # Select a subset that corresponds to \n",
    "    region = grid.sel(latitude=slice(lat_min, lat_max), longitude=slice(lon_min, lon_max))\n",
    "\n",
    "    return region.variables['bedrock'].values, region.variables['latitude'].values, region.variables['longitude'].values\n",
    "\n",
    "def get_region(ev_lat, ev_lon, stat_lat, stat_lon, offset_lon=0., offset_lat=0.):\n",
    "\n",
    "    region = dict(\n",
    "        lat_min = min(ev_lat, stat_lat)-offset_lat,\n",
    "        lat_max = max(ev_lat, stat_lat)+offset_lat,\n",
    "        lon_min = min(ev_lon, stat_lon)-offset_lon, \n",
    "        lon_max = max(ev_lon, stat_lon)+offset_lon,\n",
    "    )\n",
    "\n",
    "    return region\n",
    "\n",
    "def get_profile(ev_lat, ev_lon, stat_lat, stat_lon, lons, lats, topo, n_pts=100):\n",
    "\n",
    "    interp = RegularGridInterpolator((lons, lats), topo.T)\n",
    "    new_lons = np.linspace(ev_lon, stat_lon, n_pts)\n",
    "    new_lats = np.linspace(ev_lat, stat_lat, n_pts)\n",
    "    \n",
    "    return new_lats, new_lons, interp(np.c_[new_lons, new_lats])\n",
    "\n",
    "ev_lat, ev_lon = -7.45, 121.97\n",
    "stat_lat, stat_lon = -2., 125.\n",
    "region = get_region(ev_lat, ev_lon, stat_lat, stat_lon, offset_lon=1., offset_lat=1.)\n",
    "topo, lats, lons = get_topo(**region)\n",
    "new_lats, new_lons, profile = get_profile(ev_lat, ev_lon, stat_lat, stat_lon, lons, lats, topo, n_pts=100)"
   ]
  },
  {
   "cell_type": "code",
   "execution_count": 3,
   "metadata": {},
   "outputs": [],
   "source": [
    "def haversine(lon1, lat1, lon2, lat2, r = 6371.0):\n",
    "    # Convert latitude and longitude from degrees to radians\n",
    "    lat1, lon1, lat2, lon2 = map(np.radians, [lat1, lon1, lat2, lon2])\n",
    "    \n",
    "    # Haversine formula\n",
    "    dlat = lat2 - lat1\n",
    "    dlon = lon2 - lon1\n",
    "    a = np.sin(dlat/2)**2 + np.cos(lat1) * np.cos(lat2) * np.sin(dlon/2)**2\n",
    "    c = 2 * np.arcsin(np.sqrt(a))\n",
    "    \n",
    "    # Calculate the result\n",
    "    return c * r\n",
    "\n",
    "cpt = 0\n",
    "dists = np.zeros_like(new_lons)\n",
    "for lon, lat in zip(new_lons, new_lats):\n",
    "    dists[cpt] = haversine(new_lons[0], new_lats[0], lon, lat)*1e3\n",
    "    cpt += 1"
   ]
  },
  {
   "cell_type": "code",
   "execution_count": 79,
   "metadata": {},
   "outputs": [
    {
     "name": "stdout",
     "output_type": "stream",
     "text": [
      "-12502.788031552436 570000.9985120173 -50000.0 70000.0\n"
     ]
    },
    {
     "name": "stderr",
     "output_type": "stream",
     "text": [
      "C:\\Users\\quentin\\AppData\\Local\\Temp\\ipykernel_87724\\3929555636.py:10: DeprecationWarning: Importing tukey from 'scipy.signal' is deprecated and will raise an error in SciPy 1.13.0. Please use 'scipy.signal.windows.tukey' or the convenience function 'scipy.signal.get_window' instead.\n",
      "  taper = scipy.signal.tukey(len(z), alpha=0.15)\n",
      "C:\\Users\\quentin\\AppData\\Local\\Temp\\ipykernel_87724\\3929555636.py:69: DeprecationWarning: Importing tukey from 'scipy.signal' is deprecated and will raise an error in SciPy 1.13.0. Please use 'scipy.signal.windows.tukey' or the convenience function 'scipy.signal.get_window' instead.\n",
      "  taper = 0*scipy.signal.tukey(x_arr.size, alpha=taper_alpha)\n",
      "C:\\Users\\quentin\\AppData\\Local\\Temp\\ipykernel_87724\\3929555636.py:70: DeprecationWarning: Importing tukey from 'scipy.signal' is deprecated and will raise an error in SciPy 1.13.0. Please use 'scipy.signal.windows.tukey' or the convenience function 'scipy.signal.get_window' instead.\n",
      "  taper_t = 0*scipy.signal.tukey(x_arr_t.size, alpha=taper_alpha)\n"
     ]
    },
    {
     "data": {
      "text/html": [
       "<pre style=\"white-space:pre;overflow-x:auto;line-height:normal;font-family:Menlo,'DejaVu Sans Mono',consolas,'Courier New',monospace\"><span style=\"color: #808000; text-decoration-color: #808000; font-weight: bold\">Warning:</span><span style=\"color: #808000; text-decoration-color: #808000\"> Appending zeros to replace the missing physical tag data.</span>\n",
       "</pre>\n"
      ],
      "text/plain": [
       "\u001b[1;33mWarning:\u001b[0m\u001b[33m Appending zeros to replace the missing physical tag data.\u001b[0m\n"
      ]
     },
     "metadata": {},
     "output_type": "display_data"
    },
    {
     "data": {
      "text/html": [
       "<pre style=\"white-space:pre;overflow-x:auto;line-height:normal;font-family:Menlo,'DejaVu Sans Mono',consolas,'Courier New',monospace\"><span style=\"color: #808000; text-decoration-color: #808000; font-weight: bold\">Warning:</span><span style=\"color: #808000; text-decoration-color: #808000\"> Appending zeros to replace the missing geometrical tag data.</span>\n",
       "</pre>\n"
      ],
      "text/plain": [
       "\u001b[1;33mWarning:\u001b[0m\u001b[33m Appending zeros to replace the missing geometrical tag data.\u001b[0m\n"
      ]
     },
     "metadata": {},
     "output_type": "display_data"
    },
    {
     "data": {
      "image/png": "[encoded data removed]",
      "text/plain": [
       "<Figure size 640x480 with 1 Axes>"
      ]
     },
     "metadata": {},
     "output_type": "display_data"
    }
   ],
   "source": [
    "from scipy import interpolate\n",
    "reload(cp)\n",
    "\n",
    "use_cpml = True\n",
    "\n",
    "def my_sinusoidal(x, amplitude=2000, period=40000, depth=16000):\n",
    "\n",
    "    z = amplitude * np.sin(2 * np.pi * x / period)\n",
    "    # taper for both ends\n",
    "    taper = scipy.signal.tukey(len(z), alpha=0.15)\n",
    "    z *= taper\n",
    "\n",
    "    return z + depth # average depth is 16000m (z coordinate from the bottom actually)\n",
    "\n",
    "\n",
    "def create_sinusoidal_subsurface(n_points, xmin, xmax, depth=16000):\n",
    "    x_arr = np.linspace(xmin, xmax, n_points)\n",
    "    z_arr = my_sinusoidal(x_arr, depth=depth)\n",
    "\n",
    "    return x_arr, z_arr\n",
    "\n",
    "lc_w = 0.5 * 1000.0\n",
    "lc_g = 2.5 * 1000.0\n",
    "#xmin, xmax = -10e3, 500e3\n",
    "\n",
    "xmin, xmax = -12502.788031552436, 567500.9985120173+lc_g\n",
    "#xmin, xmax = -8008.961858420971, 564606.4158247889\n",
    "#xmin, xmax = -2500*10., 2500*228#564606.4158247889 ## divider and remainder better\n",
    "#xmin, xmax = np.round(dists.min()), np.round(dists.max())+1500\n",
    "#xmin, xmax = np.round(xmin)-1500, np.round(xmax)+1500\n",
    "zmin, zmax = -50e3, 70e3\n",
    "\n",
    "\"\"\"\n",
    "lc_select = lc_g\n",
    "xmin = ((round(abs(xmin) / lc_select)+1) * lc_select)*np.sign(xmin)\n",
    "xmax = ((round(abs(xmax) / lc_select)+1) * lc_select)*np.sign(xmax)\n",
    "zmin = (round(abs(zmin) / lc_select) * lc_select)*np.sign(zmin)\n",
    "zmax = (round(abs(zmax) / lc_select) * lc_select)*np.sign(zmax)\n",
    "\"\"\"\n",
    "print(xmin, xmax, zmin, zmax)\n",
    "\n",
    "L = abs(xmax-xmin)\n",
    "lc_pml = min(lc_w, lc_g)\n",
    "w_pml = lc_pml*10\n",
    "H_t = lc_g*5.0 # width of transition layer\n",
    "nelm_h_g = int(L / lc_g) \n",
    "nelm_h_w = int(L / lc_w) \n",
    "\n",
    "\"\"\"\n",
    "xmax = xmin + (nelm_h_g-1)*lc_g\n",
    "L = abs(xmax-xmin)\n",
    "nelm_h_g = int(L / lc_g) + 1\n",
    "nelm_h_w = int(L / lc_w) + 1\n",
    "print(xmax, xmin + (nelm_h_w-1)*lc_w)\n",
    "print(int(L / lc_g) + 1, nelm_h_g)\n",
    "\"\"\"\n",
    "\n",
    "lc_b = min(lc_w, lc_g) # element size at boundary\n",
    "H_w = abs(zmax)  # water depth in meter\n",
    "H_g = abs(zmin)  # subsurface depth in meter\n",
    "\n",
    "n_points = int(L / lc_b)\n",
    "x_arr = np.linspace(xmin, xmax, n_points)\n",
    "n_points = int(L / lc_g)\n",
    "x_arr_t = np.linspace(xmin, xmax, n_points)\n",
    "f = interpolate.interp1d(dists, profile+0*my_sinusoidal(dists, depth=0.), bounds_error=False, fill_value=0.,)\n",
    "\n",
    "taper_alpha = 0.25\n",
    "taper = 0*scipy.signal.tukey(x_arr.size, alpha=taper_alpha)\n",
    "taper_t = 0*scipy.signal.tukey(x_arr_t.size, alpha=taper_alpha)\n",
    "\n",
    "# Initialize empty geometry using the build in kernel in GMSH\n",
    "with pygmsh.geo.Geometry() as geom:\n",
    "\n",
    "    \"\"\" node ids without pml layer\n",
    "    5             6\n",
    "\n",
    "    4             3\n",
    "    4t            3t <--- transition layer\n",
    "\n",
    "\n",
    "    1             2\n",
    "\n",
    "    \"\"\"\n",
    "\n",
    "    # points\n",
    "    p1 = (xmin, -H_g, 0)\n",
    "    p2 = (xmax, -H_g, 0)\n",
    "    p3 = (xmax, 0, 0)\n",
    "    p4 = (xmin, 0, 0)\n",
    "    p5 = (xmin, H_w, 0)\n",
    "    p6 = (xmax, H_w, 0)\n",
    "\n",
    "    p3t = (xmax, 0 - H_t, 0)\n",
    "    p4t = (xmin, 0 - H_t, 0)\n",
    "\n",
    "    #\n",
    "    # create subsurface geometry\n",
    "    #\n",
    "    plt.figure()\n",
    "\n",
    "    #x_arr, z_arr = create_sinusoidal_subsurface(int(L / lc_b)+1, xmin, xmax, depth=0.)\n",
    "    #plt.plot(x_arr, z_arr)\n",
    "    #z_arr = f(x_arr)*taper\n",
    "    plt.plot(x_arr, f(x_arr)*taper, linestyle='-')\n",
    "    #plt.plot(x_arr, f(x_arr), linestyle='--')\n",
    "    topo = {\"x\": x_arr, \"z\": f(x_arr)*taper}\n",
    "\n",
    "    #x_arr_t, z_arr_t = create_sinusoidal_subsurface(int(L / lc_g)+1, xmin, xmax, depth=0.-H_t)\n",
    "    #plt.plot(x_arr_t, z_arr_t)\n",
    "    #taper = scipy.signal.tukey(x_arr_t.size, alpha=0.35)\n",
    "    #z_arr_t = f(x_arr_t)*taper-H_t\n",
    "    plt.plot(x_arr_t, f(x_arr_t)*taper_t-H_t, linestyle='-')\n",
    "    #plt.plot(x_arr_t, f(x_arr_t)-H_t, linestyle='--')\n",
    "    topo_t = {\"x\": x_arr_t, \"z\": f(x_arr_t)*taper_t-H_t}\n",
    "    \n",
    "    #print(x_arr.size, nelm_h_w)\n",
    "    #print(x_arr_t.size, nelm_h_g)\n",
    "\n",
    "    # create rectangles\n",
    "    whole_domain = cp.rectangles(geom)\n",
    "    whole_domain.add_one_rect(geom, p1, p2, p3t, p4t, lc_g, transfinite=True, mat_tag=\"M1\", nelm_h=nelm_h_g ,topo=topo_t)\n",
    "    whole_domain.add_one_rect(geom, p4t, p3t, p3, p4, [lc_g, lc_g, lc_w, lc_w], transfinite=False, mat_tag=\"M1\", topo=topo)\n",
    "    whole_domain.add_one_rect(geom, p4, p3, p6, p5, lc_w, transfinite=True, nelm_h=nelm_h_w, mat_tag=\"M2\")\n",
    "\n",
    "    # create pml layer\n",
    "    if use_cpml:\n",
    "        whole_domain.add_pml_layers(geom, w_pml, lc_pml, top_pml=True)\n",
    "\n",
    "    # build up edges and lines\n",
    "    whole_domain.build_points_edges(geom)\n",
    "\n",
    "    # force recombine all the surfaces\n",
    "    import gmsh\n",
    "    gmsh.initialize()\n",
    "    gmsh.option.setNumber(\"Mesh.RecombineAll\", 1)\n",
    "    gmsh.option.setNumber(\"Mesh.RecombinationAlgorithm\", 2)\n",
    "\n",
    "    # create and write mesh\n",
    "    mesh = geom.generate_mesh(dim=2, order=1, verbose=True)\n",
    "    mesh.write(\"mesh.msh\", file_format=\"gmsh22\")\n"
   ]
  },
  {
   "cell_type": "code",
   "execution_count": 73,
   "metadata": {},
   "outputs": [
    {
     "name": "stdout",
     "output_type": "stream",
     "text": [
      "Time elapsed for nodes:  1.1536955833435059  seconds\n",
      "Time elapsed for mesh:  1.3248519897460938  seconds\n",
      "material keys:  ['M1', 'M2']\n",
      "cell_id_offset:  3492\n",
      "Time elapsed for material:  1.0379552841186523  seconds\n",
      "Time elapsed for surf:  22.614346981048584  seconds\n",
      "Number of PML_X elements:  3360  ->  3024  ( 336  elements removed)\n",
      "Number of PML_Y elements:  13264  ->  11892  ( 1372  elements removed)\n",
      "Number of PML_XY elements:  360  ->  356  ( 4  elements removed)\n",
      "Time elapsed for cpml:  4.968564033508301  seconds\n",
      "Time elapsed:  31.10343074798584  seconds\n"
     ]
    }
   ],
   "source": [
    "from importlib import reload\n",
    "import meshio2spec2d\n",
    "reload(meshio2spec2d)\n",
    "\n",
    "mio2spec = meshio2spec2d.Meshio2Specfem2D(mesh, outdir = \"./test/EXTMSH\")\n",
    "mio2spec.write(\"extMesh\")"
   ]
  }
 ],
 "metadata": {
  "kernelspec": {
   "display_name": "Python 3",
   "language": "python",
   "name": "python3"
  },
  "language_info": {
   "codemirror_mode": {
    "name": "ipython",
    "version": 3
   },
   "file_extension": ".py",
   "mimetype": "text/x-python",
   "name": "python",
   "nbconvert_exporter": "python",
   "pygments_lexer": "ipython3",
   "version": "3.11.9"
  }
 },
 "nbformat": 4,
 "nbformat_minor": 2
}
