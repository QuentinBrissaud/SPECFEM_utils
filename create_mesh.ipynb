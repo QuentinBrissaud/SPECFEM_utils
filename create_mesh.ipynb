{
 "cells": [
  {
   "cell_type": "code",
   "execution_count": 87,
   "metadata": {},
   "outputs": [
    {
     "name": "stderr",
     "output_type": "stream",
     "text": [
      "C:\\Users\\quentin\\AppData\\Local\\Temp\\ipykernel_75444\\3502756048.py:12: DeprecationWarning: Importing tukey from 'scipy.signal' is deprecated and will raise an error in SciPy 1.13.0. Please use 'scipy.signal.windows.tukey' or the convenience function 'scipy.signal.get_window' instead.\n",
      "  taper = scipy.signal.tukey(len(z), alpha=0.15)\n"
     ]
    },
    {
     "name": "stdout",
     "output_type": "stream",
     "text": [
      "rectangle id 0 is meshed with nelm_h (bottom,top) = [41, 41]                 and nelm_v (left, right) = None\n",
      "rectangle id 1 is meshed with nelm_h (bottom,top) = None                 and nelm_v (left, right) = None\n",
      "rectangle id 2 is meshed with nelm_h (bottom,top) = [121, 121]                 and nelm_v (left, right) = None\n",
      "bottom rectangle id 0\n",
      "top rectangle id 2\n",
      "rectangle id 3 is meshed with nelm_h (bottom,top) = [11, 11]                 and nelm_v (left, right) = None\n",
      "rectangle id 4 is meshed with nelm_h (bottom,top) = [11, 11]                 and nelm_v (left, right) = None\n",
      "rectangle id 5 is meshed with nelm_h (bottom,top) = [11, 11]                 and nelm_v (left, right) = None\n",
      "rectangle id 6 is meshed with nelm_h (bottom,top) = [11, 11]                 and nelm_v (left, right) = None\n",
      "rectangle id 7 is meshed with nelm_h (bottom,top) = [11, 11]                 and nelm_v (left, right) = None\n",
      "rectangle id 8 is meshed with nelm_h (bottom,top) = [11, 11]                 and nelm_v (left, right) = None\n",
      "rectangle id 9 is meshed with nelm_h (bottom,top) = [11, 11]                 and nelm_v (left, right) = [9, 9]\n",
      "rectangle id 10 is meshed with nelm_h (bottom,top) = [41, 41]                 and nelm_v (left, right) = [9, 9]\n",
      "rectangle id 11 is meshed with nelm_h (bottom,top) = [11, 11]                 and nelm_v (left, right) = [9, 9]\n",
      "rectangle id 12 is meshed with nelm_h (bottom,top) = [11, 11]                 and nelm_v (left, right) = [11, 11]\n",
      "rectangle id 13 is meshed with nelm_h (bottom,top) = [121, 121]                 and nelm_v (left, right) = [11, 11]\n",
      "rectangle id 14 is meshed with nelm_h (bottom,top) = [11, 11]                 and nelm_v (left, right) = [11, 11]\n",
      "creating surface for rect.id 0\n",
      "creating surface for rect.id 1\n",
      "creating surface for rect.id 2\n",
      "creating surface for rect.id 3\n",
      "creating surface for rect.id 4\n",
      "creating surface for rect.id 5\n",
      "creating surface for rect.id 6\n",
      "creating surface for rect.id 7\n",
      "creating surface for rect.id 8\n",
      "creating surface for rect.id 9\n",
      "creating surface for rect.id 10\n",
      "creating surface for rect.id 11\n",
      "creating surface for rect.id 12\n",
      "creating surface for rect.id 13\n",
      "creating surface for rect.id 14\n",
      "pml_tag PML_X list_ps [<pygmsh PlaneSurface object, ID 4, curve loop 4>, <pygmsh PlaneSurface object, ID 5, curve loop 5>, <pygmsh PlaneSurface object, ID 6, curve loop 6>, <pygmsh PlaneSurface object, ID 7, curve loop 7>, <pygmsh PlaneSurface object, ID 8, curve loop 8>, <pygmsh PlaneSurface object, ID 9, curve loop 9>]\n",
      "pml_tag PML_Y list_ps [<pygmsh PlaneSurface object, ID 11, curve loop 11>, <pygmsh PlaneSurface object, ID 14, curve loop 14>]\n",
      "pml_tag PML_XY list_ps [<pygmsh PlaneSurface object, ID 10, curve loop 10>, <pygmsh PlaneSurface object, ID 12, curve loop 12>, <pygmsh PlaneSurface object, ID 13, curve loop 13>, <pygmsh PlaneSurface object, ID 15, curve loop 15>]\n"
     ]
    },
    {
     "data": {
      "text/html": [
       "<pre style=\"white-space:pre;overflow-x:auto;line-height:normal;font-family:Menlo,'DejaVu Sans Mono',consolas,'Courier New',monospace\"><span style=\"color: #808000; text-decoration-color: #808000; font-weight: bold\">Warning:</span><span style=\"color: #808000; text-decoration-color: #808000\"> Appending zeros to replace the missing physical tag data.</span>\n",
       "</pre>\n"
      ],
      "text/plain": [
       "\u001b[1;33mWarning:\u001b[0m\u001b[33m Appending zeros to replace the missing physical tag data.\u001b[0m\n"
      ]
     },
     "metadata": {},
     "output_type": "display_data"
    },
    {
     "data": {
      "text/html": [
       "<pre style=\"white-space:pre;overflow-x:auto;line-height:normal;font-family:Menlo,'DejaVu Sans Mono',consolas,'Courier New',monospace\"><span style=\"color: #808000; text-decoration-color: #808000; font-weight: bold\">Warning:</span><span style=\"color: #808000; text-decoration-color: #808000\"> Appending zeros to replace the missing geometrical tag data.</span>\n",
       "</pre>\n"
      ],
      "text/plain": [
       "\u001b[1;33mWarning:\u001b[0m\u001b[33m Appending zeros to replace the missing geometrical tag data.\u001b[0m\n"
      ]
     },
     "metadata": {},
     "output_type": "display_data"
    }
   ],
   "source": [
    "import create_geom_with_pygmsh as cp\n",
    "import pygmsh\n",
    "import numpy as np\n",
    "import scipy.signal"
   ]
  },
  {
   "cell_type": "code",
   "execution_count": 89,
   "metadata": {},
   "outputs": [],
   "source": [
    "import rockhound as rh\n",
    "from scipy.interpolate import RegularGridInterpolator\n",
    "\n",
    "def get_topo(lat_min, lat_max, lon_min, lon_max):\n",
    "\n",
    "    # Load a version of the topography grid\n",
    "    grid = rh.fetch_etopo1(version=\"bedrock\")\n",
    "\n",
    "    # Select a subset that corresponds to \n",
    "    region = grid.sel(latitude=slice(lat_min, lat_max), longitude=slice(lon_min, lon_max))\n",
    "\n",
    "    return region.variables['bedrock'].values, region.variables['latitude'].values, region.variables['longitude'].values\n",
    "\n",
    "def get_region(ev_lat, ev_lon, stat_lat, stat_lon, offset_lon=0., offset_lat=0.):\n",
    "\n",
    "    region = dict(\n",
    "        lat_min = min(ev_lat, stat_lat)-offset_lat,\n",
    "        lat_max = max(ev_lat, stat_lat)+offset_lat,\n",
    "        lon_min = min(ev_lon, stat_lon)-offset_lon, \n",
    "        lon_max = max(ev_lon, stat_lon)+offset_lon,\n",
    "    )\n",
    "\n",
    "    return region\n",
    "\n",
    "def get_profile(ev_lat, ev_lon, stat_lat, stat_lon, lons, lats, topo, n_pts=100):\n",
    "\n",
    "    interp = RegularGridInterpolator((lons, lats), topo.T)\n",
    "    new_lons = np.linspace(ev_lon, stat_lon, n_pts)\n",
    "    new_lats = np.linspace(ev_lat, stat_lat, n_pts)\n",
    "    \n",
    "    return new_lats, new_lons, interp(np.c_[new_lons, new_lats])\n",
    "\n",
    "ev_lat, ev_lon = -7.45, 121.97\n",
    "stat_lat, stat_lon = -2., 125.\n",
    "region = get_region(ev_lat, ev_lon, stat_lat, stat_lon, offset_lon=1., offset_lat=1.)\n",
    "topo, lats, lons = get_topo(**region)\n",
    "new_lats, new_lons, profile = get_profile(ev_lat, ev_lon, stat_lat, stat_lon, lons, lats, topo, n_pts=100)"
   ]
  },
  {
   "cell_type": "code",
   "execution_count": 102,
   "metadata": {},
   "outputs": [],
   "source": [
    "def haversine(lon1, lat1, lon2, lat2, r = 6371.0):\n",
    "    # Convert latitude and longitude from degrees to radians\n",
    "    lat1, lon1, lat2, lon2 = map(np.radians, [lat1, lon1, lat2, lon2])\n",
    "    \n",
    "    # Haversine formula\n",
    "    dlat = lat2 - lat1\n",
    "    dlon = lon2 - lon1\n",
    "    a = np.sin(dlat/2)**2 + np.cos(lat1) * np.cos(lat2) * np.sin(dlon/2)**2\n",
    "    c = 2 * np.arcsin(np.sqrt(a))\n",
    "    \n",
    "    # Calculate the result\n",
    "    return c * r\n",
    "\n",
    "cpt = 0\n",
    "dists = np.zeros_like(new_lons)\n",
    "for lon, lat in zip(new_lons, new_lats):\n",
    "    dists[cpt] = haversine(new_lons[0], new_lats[0], lon, lat)*1e3\n",
    "    cpt += 1"
   ]
  },
  {
   "cell_type": "code",
   "execution_count": 214,
   "metadata": {},
   "outputs": [
    {
     "name": "stdout",
     "output_type": "stream",
     "text": [
      "693000.0 693000.0\n",
      "199 199\n",
      "rectangle id 0 is meshed with nelm_h (bottom,top) = [199, 199]                 and nelm_v (left, right) = None\n",
      "rectangle id 1 is meshed with nelm_h (bottom,top) = None                 and nelm_v (left, right) = None\n",
      "rectangle id 2 is meshed with nelm_h (bottom,top) = [1387, 1387]                 and nelm_v (left, right) = None\n",
      "bottom rectangle id 0\n",
      "top rectangle id 2\n",
      "rectangle id 3 is meshed with nelm_h (bottom,top) = [11, 11]                 and nelm_v (left, right) = None\n",
      "rectangle id 4 is meshed with nelm_h (bottom,top) = [11, 11]                 and nelm_v (left, right) = None\n",
      "rectangle id 5 is meshed with nelm_h (bottom,top) = [11, 11]                 and nelm_v (left, right) = None\n",
      "rectangle id 6 is meshed with nelm_h (bottom,top) = [11, 11]                 and nelm_v (left, right) = None\n",
      "rectangle id 7 is meshed with nelm_h (bottom,top) = [11, 11]                 and nelm_v (left, right) = None\n",
      "rectangle id 8 is meshed with nelm_h (bottom,top) = [11, 11]                 and nelm_v (left, right) = None\n",
      "rectangle id 9 is meshed with nelm_h (bottom,top) = [11, 11]                 and nelm_v (left, right) = [9, 9]\n",
      "rectangle id 10 is meshed with nelm_h (bottom,top) = [199, 199]                 and nelm_v (left, right) = [9, 9]\n",
      "rectangle id 11 is meshed with nelm_h (bottom,top) = [11, 11]                 and nelm_v (left, right) = [9, 9]\n",
      "rectangle id 12 is meshed with nelm_h (bottom,top) = [11, 11]                 and nelm_v (left, right) = [11, 11]\n",
      "rectangle id 13 is meshed with nelm_h (bottom,top) = [1387, 1387]                 and nelm_v (left, right) = [11, 11]\n",
      "rectangle id 14 is meshed with nelm_h (bottom,top) = [11, 11]                 and nelm_v (left, right) = [11, 11]\n",
      "creating surface for rect.id 0\n",
      "creating surface for rect.id 1\n",
      "creating surface for rect.id 2\n",
      "creating surface for rect.id 3\n",
      "creating surface for rect.id 4\n",
      "creating surface for rect.id 5\n",
      "creating surface for rect.id 6\n",
      "creating surface for rect.id 7\n",
      "creating surface for rect.id 8\n",
      "creating surface for rect.id 9\n",
      "creating surface for rect.id 10\n",
      "creating surface for rect.id 11\n",
      "creating surface for rect.id 12\n",
      "creating surface for rect.id 13\n",
      "creating surface for rect.id 14\n",
      "pml_tag PML_X list_ps [<pygmsh PlaneSurface object, ID 4, curve loop 4>, <pygmsh PlaneSurface object, ID 5, curve loop 5>, <pygmsh PlaneSurface object, ID 6, curve loop 6>, <pygmsh PlaneSurface object, ID 7, curve loop 7>, <pygmsh PlaneSurface object, ID 8, curve loop 8>, <pygmsh PlaneSurface object, ID 9, curve loop 9>]\n",
      "pml_tag PML_Y list_ps [<pygmsh PlaneSurface object, ID 11, curve loop 11>, <pygmsh PlaneSurface object, ID 14, curve loop 14>]\n",
      "pml_tag PML_XY list_ps [<pygmsh PlaneSurface object, ID 10, curve loop 10>, <pygmsh PlaneSurface object, ID 12, curve loop 12>, <pygmsh PlaneSurface object, ID 13, curve loop 13>, <pygmsh PlaneSurface object, ID 15, curve loop 15>]\n"
     ]
    },
    {
     "name": "stderr",
     "output_type": "stream",
     "text": [
      "C:\\Users\\quentin\\AppData\\Local\\Temp\\ipykernel_75444\\3320194291.py:47: DeprecationWarning: Importing tukey from 'scipy.signal' is deprecated and will raise an error in SciPy 1.13.0. Please use 'scipy.signal.windows.tukey' or the convenience function 'scipy.signal.get_window' instead.\n",
      "  taper = scipy.signal.tukey(len(dists), alpha=0.15)\n",
      "C:\\Users\\quentin\\AppData\\Local\\Temp\\ipykernel_75444\\3320194291.py:9: DeprecationWarning: Importing tukey from 'scipy.signal' is deprecated and will raise an error in SciPy 1.13.0. Please use 'scipy.signal.windows.tukey' or the convenience function 'scipy.signal.get_window' instead.\n",
      "  taper = scipy.signal.tukey(len(z), alpha=0.15)\n"
     ]
    },
    {
     "data": {
      "text/html": [
       "<pre style=\"white-space:pre;overflow-x:auto;line-height:normal;font-family:Menlo,'DejaVu Sans Mono',consolas,'Courier New',monospace\"><span style=\"color: #808000; text-decoration-color: #808000; font-weight: bold\">Warning:</span><span style=\"color: #808000; text-decoration-color: #808000\"> Appending zeros to replace the missing physical tag data.</span>\n",
       "</pre>\n"
      ],
      "text/plain": [
       "\u001b[1;33mWarning:\u001b[0m\u001b[33m Appending zeros to replace the missing physical tag data.\u001b[0m\n"
      ]
     },
     "metadata": {},
     "output_type": "display_data"
    },
    {
     "data": {
      "text/html": [
       "<pre style=\"white-space:pre;overflow-x:auto;line-height:normal;font-family:Menlo,'DejaVu Sans Mono',consolas,'Courier New',monospace\"><span style=\"color: #808000; text-decoration-color: #808000; font-weight: bold\">Warning:</span><span style=\"color: #808000; text-decoration-color: #808000\"> Appending zeros to replace the missing geometrical tag data.</span>\n",
       "</pre>\n"
      ],
      "text/plain": [
       "\u001b[1;33mWarning:\u001b[0m\u001b[33m Appending zeros to replace the missing geometrical tag data.\u001b[0m\n"
      ]
     },
     "metadata": {},
     "output_type": "display_data"
    }
   ],
   "source": [
    "from scipy import interpolate\n",
    "\n",
    "use_cpml = True\n",
    "\n",
    "def my_sinusoidal(x, amplitude=2000, period=40000, depth=16000):\n",
    "\n",
    "    z = amplitude * np.sin(2 * np.pi * x / period)\n",
    "    # taper for both ends\n",
    "    taper = scipy.signal.tukey(len(z), alpha=0.15)\n",
    "    z *= taper\n",
    "\n",
    "    return z + depth # average depth is 16000m (z coordinate from the bottom actually)\n",
    "\n",
    "\n",
    "def create_sinusoidal_subsurface(n_points, xmin, xmax, depth=16000):\n",
    "    x_arr = np.linspace(xmin, xmax, n_points)\n",
    "    z_arr = my_sinusoidal(x_arr, depth=depth)\n",
    "\n",
    "    return x_arr, z_arr\n",
    "\n",
    "xmin, xmax = -10e3, 500e3\n",
    "xmin, xmax = 0e3, 691e3+1500.\n",
    "xmin, xmax = np.round(dists.min()), np.round(dists.max())+1500\n",
    "zmin, zmax = -80e3, 75e3\n",
    "L = abs(xmax-xmin)\n",
    "lc_w = 0.5 * 1000.0\n",
    "lc_g = 3.5 * 1000.0\n",
    "lc_pml = min(lc_w, lc_g)\n",
    "w_pml = lc_pml*10\n",
    "H_t = lc_g*10.0 # width of transition layer\n",
    "nelm_h_g = int(L / lc_g) + 1\n",
    "nelm_h_w = int(L / lc_w) + 1\n",
    "\n",
    "xmax = xmin + (nelm_h_g-1)*lc_g\n",
    "L = abs(xmax-xmin)\n",
    "nelm_h_g = int(L / lc_g) + 1\n",
    "nelm_h_w = int(L / lc_w) + 1\n",
    "print(xmax, xmin + (nelm_h_w-1)*lc_w)\n",
    "print(int(L / lc_g) + 1, nelm_h_g)\n",
    "\n",
    "lc_b = min(lc_w, lc_g) # element size at boundary\n",
    "H_w = abs(zmax)  # water depth in meter\n",
    "H_g = abs(zmin)  # subsurface depth in meter\n",
    "\n",
    "n_points = int(L / lc_b)\n",
    "x_arr = np.linspace(xmin, xmax, n_points)\n",
    "taper = scipy.signal.tukey(len(dists), alpha=0.15)\n",
    "f = interpolate.interp1d(dists, profile*taper+0*my_sinusoidal(dists, depth=0.), bounds_error=False, fill_value=0.,)\n",
    "\n",
    "n_points = int(L / lc_g)\n",
    "x_arr_t = np.linspace(xmin, xmax, n_points)\n",
    "f_t = interpolate.interp1d(dists, profile*taper+0*my_sinusoidal(dists, depth=-H_t)-H_t, bounds_error=False, fill_value=-H_t,)\n",
    "\n",
    "# Initialize empty geometry using the build in kernel in GMSH\n",
    "with pygmsh.geo.Geometry() as geom:\n",
    "\n",
    "    \"\"\" node ids without pml layer\n",
    "    5             6\n",
    "\n",
    "    4             3\n",
    "    4t            3t <--- transition layer\n",
    "\n",
    "\n",
    "    1             2\n",
    "\n",
    "    \"\"\"\n",
    "\n",
    "    # points\n",
    "    p1 = (xmin, -H_g, 0)\n",
    "    p2 = (xmax, -H_g, 0)\n",
    "    p3 = (xmax, 0, 0)\n",
    "    p4 = (xmin, 0, 0)\n",
    "    p5 = (xmin, H_w, 0)\n",
    "    p6 = (xmax, H_w, 0)\n",
    "\n",
    "    p3t = (xmax, 0 - H_t, 0)\n",
    "    p4t = (xmin, 0 - H_t, 0)\n",
    "\n",
    "    #\n",
    "    # create subsurface geometry\n",
    "    #\n",
    "    #plt.figure()\n",
    "\n",
    "    x_arr, z_arr = create_sinusoidal_subsurface(int(L / lc_b)+1, xmin, xmax, depth=0.)\n",
    "    #plt.plot(x_arr, z_arr)\n",
    "    z_arr = f(x_arr)\n",
    "    #plt.plot(x_arr, z_arr, linestyle='--')\n",
    "    topo = {\"x\": x_arr, \"z\": z_arr}\n",
    "\n",
    "    x_arr_t, z_arr_t = create_sinusoidal_subsurface(int(L / lc_g)+1, xmin, xmax, depth=0.-H_t)\n",
    "    #plt.plot(x_arr_t, z_arr_t)\n",
    "    z_arr_t = f_t(x_arr_t)\n",
    "    #plt.plot(x_arr_t, z_arr_t, linestyle='--')\n",
    "    topo_t = {\"x\": x_arr_t, \"z\": z_arr_t}\n",
    "    \n",
    "    #print(x_arr.size, nelm_h_w)\n",
    "    #print(x_arr_t.size, nelm_h_g)\n",
    "\n",
    "    # create rectangles\n",
    "    whole_domain = cp.rectangles(geom)\n",
    "    whole_domain.add_one_rect(geom, p1, p2, p3t, p4t, lc_g, transfinite=True, mat_tag=\"M1\", nelm_h=nelm_h_g ,topo=topo_t)\n",
    "    whole_domain.add_one_rect(geom, p4t, p3t, p3, p4, [lc_g, lc_g, lc_w, lc_w], transfinite=False, mat_tag=\"M1\", topo=topo)\n",
    "    whole_domain.add_one_rect(geom, p4, p3, p6, p5, lc_w, transfinite=True, nelm_h=nelm_h_w, mat_tag=\"M2\")\n",
    "\n",
    "    # create pml layer\n",
    "    if use_cpml:\n",
    "        whole_domain.add_pml_layers(geom, w_pml, lc_pml, top_pml=True)\n",
    "\n",
    "    # build up edges and lines\n",
    "    whole_domain.build_points_edges(geom)\n",
    "\n",
    "    # force recombine all the surfaces\n",
    "    import gmsh\n",
    "    #gmsh.initialize()\n",
    "    gmsh.option.setNumber(\"Mesh.RecombineAll\", 1)\n",
    "    gmsh.option.setNumber(\"Mesh.RecombinationAlgorithm\", 2)\n",
    "    gmsh.option.setNumber(\"General.Verbosity\", 5)\n",
    "\n",
    "    # create and write mesh\n",
    "    mesh = geom.generate_mesh(dim=2, order=1, verbose=True)\n",
    "    mesh.write(\"mesh.msh\", file_format=\"gmsh22\")\n"
   ]
  },
  {
   "cell_type": "code",
   "execution_count": 219,
   "metadata": {},
   "outputs": [
    {
     "name": "stdout",
     "output_type": "stream",
     "text": [
      "Time elapsed for nodes:  0.9353466033935547  seconds\n",
      "Time elapsed for mesh:  1.156796932220459  seconds\n",
      "material keys:  ['M1', 'M2']\n",
      "cell_id_offset:  4012\n",
      "Time elapsed for material:  0.9076347351074219  seconds\n",
      "Time elapsed for surf:  15.582246541976929  seconds\n",
      "Number of PML_X elements:  3840  ->  3456  ( 384  elements removed)\n",
      "Number of PML_Y elements:  15444  ->  13860  ( 1584  elements removed)\n",
      "Number of PML_XY elements:  360  ->  356  ( 4  elements removed)\n",
      "Time elapsed for cpml:  2.8016035556793213  seconds\n",
      "Time elapsed:  21.386627435684204  seconds\n"
     ]
    }
   ],
   "source": [
    "from importlib import reload\n",
    "import meshio2spec2d\n",
    "reload(meshio2spec2d)\n",
    "\n",
    "mio2spec = meshio2spec2d.Meshio2Specfem2D(mesh)\n",
    "mio2spec.write(\"extMesh\")"
   ]
  }
 ],
 "metadata": {
  "kernelspec": {
   "display_name": "Python 3",
   "language": "python",
   "name": "python3"
  },
  "language_info": {
   "codemirror_mode": {
    "name": "ipython",
    "version": 3
   },
   "file_extension": ".py",
   "mimetype": "text/x-python",
   "name": "python",
   "nbconvert_exporter": "python",
   "pygments_lexer": "ipython3",
   "version": "3.11.9"
  }
 },
 "nbformat": 4,
 "nbformat_minor": 2
}
